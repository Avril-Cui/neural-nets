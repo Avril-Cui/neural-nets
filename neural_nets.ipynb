{
 "cells": [
  {
   "cell_type": "code",
   "execution_count": 307,
   "metadata": {},
   "outputs": [],
   "source": [
    "import numpy as np\n",
    "import matplotlib.pyplot as plt\n",
    "import pandas as pd"
   ]
  },
  {
   "attachments": {},
   "cell_type": "markdown",
   "metadata": {},
   "source": [
    "# Generate Data"
   ]
  },
  {
   "cell_type": "code",
   "execution_count": 308,
   "metadata": {},
   "outputs": [
    {
     "data": {
      "text/plain": [
       "[<matplotlib.lines.Line2D at 0x7f99b0581520>]"
      ]
     },
     "execution_count": 308,
     "metadata": {},
     "output_type": "execute_result"
    },
    {
     "data": {
      "image/png": "[encoded data removed]",
      "text/plain": [
       "<Figure size 432x288 with 1 Axes>"
      ]
     },
     "metadata": {
      "needs_background": "light"
     },
     "output_type": "display_data"
    }
   ],
   "source": [
    "np.random.seed(7)\n",
    "x = 7 * np.random.rand(100, 1) - 5\n",
    "y = 0.8 * x**2 + 0.9*x + 2 + np.random.randn(100, 1)\n",
    "raw_data = {\n",
    "    \"1\": [item for sublist in x for item in sublist],\n",
    "    \"label\": [item for sublist in y for item in sublist]\n",
    "}\n",
    "d_nl = pd.DataFrame(raw_data)\n",
    "\n",
    "plt.plot(d_nl[\"1\"], d_nl[\"label\"], 'b.', alpha=0.5)"
   ]
  },
  {
   "cell_type": "code",
   "execution_count": 309,
   "metadata": {},
   "outputs": [
    {
     "data": {
      "text/html": [
       "<div>\n",
       "<style scoped>\n",
       "    .dataframe tbody tr th:only-of-type {\n",
       "        vertical-align: middle;\n",
       "    }\n",
       "\n",
       "    .dataframe tbody tr th {\n",
       "        vertical-align: top;\n",
       "    }\n",
       "\n",
       "    .dataframe thead th {\n",
       "        text-align: right;\n",
       "    }\n",
       "</style>\n",
       "<table border=\"1\" class=\"dataframe\">\n",
       "  <thead>\n",
       "    <tr style=\"text-align: right;\">\n",
       "      <th></th>\n",
       "      <th>1</th>\n",
       "      <th>label</th>\n",
       "    </tr>\n",
       "  </thead>\n",
       "  <tbody>\n",
       "    <tr>\n",
       "      <th>0</th>\n",
       "      <td>-4.465842</td>\n",
       "      <td>13.739711</td>\n",
       "    </tr>\n",
       "    <tr>\n",
       "      <th>1</th>\n",
       "      <td>0.459432</td>\n",
       "      <td>1.991580</td>\n",
       "    </tr>\n",
       "    <tr>\n",
       "      <th>2</th>\n",
       "      <td>-1.931135</td>\n",
       "      <td>2.945694</td>\n",
       "    </tr>\n",
       "    <tr>\n",
       "      <th>3</th>\n",
       "      <td>0.064256</td>\n",
       "      <td>3.358019</td>\n",
       "    </tr>\n",
       "    <tr>\n",
       "      <th>4</th>\n",
       "      <td>1.845927</td>\n",
       "      <td>7.916870</td>\n",
       "    </tr>\n",
       "  </tbody>\n",
       "</table>\n",
       "</div>"
      ],
      "text/plain": [
       "          1      label\n",
       "0 -4.465842  13.739711\n",
       "1  0.459432   1.991580\n",
       "2 -1.931135   2.945694\n",
       "3  0.064256   3.358019\n",
       "4  1.845927   7.916870"
      ]
     },
     "execution_count": 309,
     "metadata": {},
     "output_type": "execute_result"
    }
   ],
   "source": [
    "d_nl.head(5)"
   ]
  },
  {
   "attachments": {},
   "cell_type": "markdown",
   "metadata": {},
   "source": [
    "# Neural Network Algorithm"
   ]
  },
  {
   "attachments": {},
   "cell_type": "markdown",
   "metadata": {},
   "source": [
    "To-Dos:\n",
    "1. First write in function form, then generalize to a class\n",
    "2. Add different types of activation functions and experiment with their differences"
   ]
  },
  {
   "attachments": {},
   "cell_type": "markdown",
   "metadata": {},
   "source": [
    "## Initialization"
   ]
  },
  {
   "cell_type": "code",
   "execution_count": 310,
   "metadata": {},
   "outputs": [],
   "source": [
    "# initialize parameters\n",
    "layers = 2\n",
    "hidden_neurons = 2\n",
    "epochs = 20000\n",
    "num_inputs = 1\n",
    "label = d_nl['label'].to_numpy()"
   ]
  },
  {
   "cell_type": "code",
   "execution_count": 253,
   "metadata": {},
   "outputs": [
    {
     "name": "stdout",
     "output_type": "stream",
     "text": [
      "[[[0.31014996682084994, 0.8518166929985608], [-0.8144191926444011, -0.49171704270622973]], [0.37264552396423856, -0.0516495964628359, -0.6402811265470353]]\n"
     ]
    }
   ],
   "source": [
    "# initialize weights\n",
    "def init_weights(num_inputs):\n",
    "    \"\"\"\n",
    "        Initialize weights at random from a Gaussian distribution\n",
    "        with mean 0 and standard deviation 1/m\n",
    "    \"\"\"\n",
    "    w_l1 = [[np.random.normal(0, 1), np.random.normal(0, 1/num_inputs)], [np.random.normal(0, 1), np.random.normal(0, 1/num_inputs)]]\n",
    "    w_l2 = [np.random.normal(0, 1), np.random.normal(0, 1/num_inputs), np.random.normal(0, 1/num_inputs)]\n",
    "    weights_init = [w_l1, w_l2]\n",
    "    # for l in range(layers):\n",
    "    #     w_l = [np.random.normal(0, 1)] # weight parameters for one layer， [wl_0, wl]\n",
    "    #     for _ in range(num_inputs):\n",
    "    #         w_l.append(np.random.normal(0, 1/num_inputs))\n",
    "    #     weights_init.append(w_l)\n",
    "    return weights_init\n",
    "\n",
    "print(init_weights(num_inputs))"
   ]
  },
  {
   "cell_type": "code",
   "execution_count": 254,
   "metadata": {},
   "outputs": [],
   "source": [
    "def prepare_x(index, training_data):\n",
    "    x = [1]\n",
    "    for column_name in training_data.columns:\n",
    "        if column_name != \"label\":\n",
    "            x.append(training_data[column_name].to_numpy()[index])\n",
    "    return x"
   ]
  },
  {
   "cell_type": "code",
   "execution_count": 314,
   "metadata": {},
   "outputs": [],
   "source": [
    "# helper functions\n",
    "def sigmoid(Z):\n",
    "    return [1.0 / (1.0 + np.exp(-z)) for z in Z]\n",
    "\n",
    "def sigmoid_i(z):\n",
    "    return 1.0 / (1.0 + np.exp(-z))\n",
    "\n",
    "def sigmoid_deriv(z):\n",
    "    return sigmoid_i(z)*(1-sigmoid_i(z))\n",
    "\n",
    "def error(predicted, target):\n",
    "    return np.power(predicted-target, 2)\n",
    "\n",
    "def error_predicted_deriv(predicted, target):\n",
    "    return 2*(predicted-target)"
   ]
  },
  {
   "attachments": {},
   "cell_type": "markdown",
   "metadata": {},
   "source": [
    "## NN Training"
   ]
  },
  {
   "cell_type": "code",
   "execution_count": 330,
   "metadata": {},
   "outputs": [],
   "source": [
    "# per iteration (epoch) training\n",
    "def train_epoch(A0, index, learn_rate, weights, epoch):\n",
    "    \"\"\"\n",
    "        A0 is x_i, where i is randomly selected from gd\n",
    "    \"\"\"\n",
    "    A = [A0]\n",
    "    z = [0]\n",
    "    w = weights\n",
    "\n",
    "    # feedforward\n",
    "    # layer 1\n",
    "    z_1_0 = np.dot(w[0][0], A[0])\n",
    "    a_1_0 = sigmoid_i(z_1_0)\n",
    "    z_1_1 = np.dot(w[0][1], A[0])\n",
    "    a_1_1 = sigmoid_i(z_1_1)\n",
    "    z_1 = [1, z_1_0, z_1_1]\n",
    "    a_1 = [1, a_1_0, a_1_1]    \n",
    "    z.append(z_1)\n",
    "    A.append(a_1)\n",
    "\n",
    "    # layer 2\n",
    "    z_2 = np.dot(w[1], A[1])\n",
    "    a_2 = z_2\n",
    "    z.append(z_2)\n",
    "    A.append(a_2)\n",
    "    #checkpoint 1\n",
    "\n",
    "    # backpropagation\n",
    "    # layer 2\n",
    "    error_deriv_2 = error_predicted_deriv(A[2], label[index]) #constant\n",
    "    act_deriv_2 = 1\n",
    "    gradient_2 = np.multiply(np.multiply(A[1], act_deriv_2), error_deriv_2) #len = 3\n",
    "    w[1] -= learn_rate * gradient_2 #len(w[1]) = 3\n",
    "\n",
    "    # layer 1, neuron 1\n",
    "    act_deriv_1_1 = sigmoid_deriv(z_1_0)\n",
    "    error_deriv_1_1 = w[1][1] * error_deriv_2\n",
    "    gradient_1_1 = np.multiply(np.multiply(A0, act_deriv_1_1), error_deriv_1_1)\n",
    "    w[0][0] -= learn_rate * gradient_1_1\n",
    "\n",
    "    # layer 1, neuron 2\n",
    "    act_deriv_1_2 = sigmoid_deriv(z_1_1)\n",
    "    error_deriv_1_2 = w[1][2] * error_deriv_2\n",
    "    gradient_1_2 = np.multiply(np.multiply(A0, act_deriv_1_2), error_deriv_1_2)\n",
    "    w[0][1] -= learn_rate * gradient_1_2\n",
    "\n",
    "    # for layer in range(layers): #0, 1\n",
    "    #     if layer == 0:\n",
    "    #         z_l = np.multiply(np.transpose(w[layer]), A[layer])\n",
    "    #         A_l = sigmoid(z_l)\n",
    "    #         A.append(A_l)\n",
    "    #         z.append(z_l)\n",
    "\n",
    "    # if epoch % 1500 == 0:\n",
    "    #     err = error(A[-1], label[index])\n",
    "    #     print(f\"epoch: {epoch}, err: {err}\")\n",
    "    #     print(f\"current weights: {w}\")\n",
    "\n",
    "    # # backward propagation\n",
    "    # for layer in np.arange(layers, 0, -1):\n",
    "    #     error_deriv = error_predicted_deriv(A[layer], label[index])\n",
    "    #     sigm_deriv = sigmoid_deriv(z[layer])\n",
    "    #     gradient = np.multiply(np.multiply(sigm_deriv, error_deriv), A[layer-1])\n",
    "    #     w[layer-1] -= learn_rate * gradient\n",
    "    \n",
    "    return w"
   ]
  },
  {
   "cell_type": "code",
   "execution_count": 331,
   "metadata": {},
   "outputs": [],
   "source": [
    "# perform sgd\n",
    "def train():\n",
    "    weights = init_weights(num_inputs)\n",
    "        \n",
    "    for t in range(epochs):\n",
    "        learn_rate = 1\n",
    "        if t != 0:\n",
    "            learn_rate = 1/t\n",
    "        length = len(label)\n",
    "        index = np.random.randint(0, length-1)\n",
    "        inpt = prepare_x(index, d_nl)\n",
    "        weights = train_epoch(A0=inpt, index=index, learn_rate=learn_rate, weights=weights, epoch=t)\n",
    "    \n",
    "    return weights"
   ]
  },
  {
   "cell_type": "code",
   "execution_count": 377,
   "metadata": {},
   "outputs": [],
   "source": [
    "def predict(weights, inpt):\n",
    "    z_1_0 = np.dot(weights[0][0], inpt)\n",
    "    a_1_0 = sigmoid_i(z_1_0)\n",
    "    z_1_1 = np.dot(weights[0][1], inpt)\n",
    "    a_1_1 = sigmoid_i(z_1_1)\n",
    "    a_1 = [1, a_1_0, a_1_1]\n",
    "\n",
    "    z_2 = np.dot(weights[1], a_1)\n",
    "    a_2 = z_2\n",
    "    return a_2"
   ]
  },
  {
   "cell_type": "code",
   "execution_count": 378,
   "metadata": {},
   "outputs": [
    {
     "data": {
      "text/html": [
       "<div>\n",
       "<style scoped>\n",
       "    .dataframe tbody tr th:only-of-type {\n",
       "        vertical-align: middle;\n",
       "    }\n",
       "\n",
       "    .dataframe tbody tr th {\n",
       "        vertical-align: top;\n",
       "    }\n",
       "\n",
       "    .dataframe thead th {\n",
       "        text-align: right;\n",
       "    }\n",
       "</style>\n",
       "<table border=\"1\" class=\"dataframe\">\n",
       "  <thead>\n",
       "    <tr style=\"text-align: right;\">\n",
       "      <th></th>\n",
       "      <th>1</th>\n",
       "      <th>label</th>\n",
       "    </tr>\n",
       "  </thead>\n",
       "  <tbody>\n",
       "    <tr>\n",
       "      <th>0</th>\n",
       "      <td>-4.465842</td>\n",
       "      <td>13.739711</td>\n",
       "    </tr>\n",
       "    <tr>\n",
       "      <th>1</th>\n",
       "      <td>0.459432</td>\n",
       "      <td>1.991580</td>\n",
       "    </tr>\n",
       "    <tr>\n",
       "      <th>2</th>\n",
       "      <td>-1.931135</td>\n",
       "      <td>2.945694</td>\n",
       "    </tr>\n",
       "    <tr>\n",
       "      <th>3</th>\n",
       "      <td>0.064256</td>\n",
       "      <td>3.358019</td>\n",
       "    </tr>\n",
       "    <tr>\n",
       "      <th>4</th>\n",
       "      <td>1.845927</td>\n",
       "      <td>7.916870</td>\n",
       "    </tr>\n",
       "  </tbody>\n",
       "</table>\n",
       "</div>"
      ],
      "text/plain": [
       "          1      label\n",
       "0 -4.465842  13.739711\n",
       "1  0.459432   1.991580\n",
       "2 -1.931135   2.945694\n",
       "3  0.064256   3.358019\n",
       "4  1.845927   7.916870"
      ]
     },
     "execution_count": 378,
     "metadata": {},
     "output_type": "execute_result"
    }
   ],
   "source": [
    "d_nl.head(5)"
   ]
  },
  {
   "cell_type": "code",
   "execution_count": 385,
   "metadata": {},
   "outputs": [],
   "source": [
    "inpt_lst = d_nl[\"1\"].to_list()\n",
    "opt_lst = []\n",
    "weights = train()\n",
    "for inpt in inpt_lst:\n",
    "    opt = predict(weights, [1, inpt])\n",
    "    opt_lst.append(opt)"
   ]
  },
  {
   "cell_type": "code",
   "execution_count": 386,
   "metadata": {},
   "outputs": [
    {
     "data": {
      "text/plain": [
       "<matplotlib.collections.PathCollection at 0x7f9a2a056880>"
      ]
     },
     "execution_count": 386,
     "metadata": {},
     "output_type": "execute_result"
    },
    {
     "data": {
      "image/png": "[encoded data removed]",
      "text/plain": [
       "<Figure size 360x216 with 1 Axes>"
      ]
     },
     "metadata": {
      "needs_background": "light"
     },
     "output_type": "display_data"
    }
   ],
   "source": [
    "# print(weights)\n",
    "\n",
    "# line_indpt = np.linspace(-5, 2, 500)\n",
    "# line = weights[1][1] * line_indpt + weights[1][2] * line_indpt + weights[1][0]\n",
    "plt.figure(figsize=(5,3))\n",
    "plt.scatter(inpt_lst, opt_lst)\n",
    "plt.scatter(d_nl['1'], d_nl[\"label\"])\n",
    "# plt.plot(line_indpt, line, color=\"orange\")"
   ]
  },
  {
   "cell_type": "code",
   "execution_count": 373,
   "metadata": {},
   "outputs": [
    {
     "data": {
      "text/plain": [
       "3.6128498586147915"
      ]
     },
     "execution_count": 373,
     "metadata": {},
     "output_type": "execute_result"
    }
   ],
   "source": [
    "result = predict([1, 10])\n",
    "result"
   ]
  },
  {
   "cell_type": "code",
   "execution_count": 324,
   "metadata": {},
   "outputs": [
    {
     "name": "stdout",
     "output_type": "stream",
     "text": [
      "epoch: 0, err: 16.599547782551273\n",
      "current weights: [[array([ 3.27621063, -4.12939658]), array([  8.78180451, -15.43754131])], array([6.59851148, 8.51161878, 5.68412689])]\n",
      "output: -1.6509556806822303\n",
      "epoch: 1500, err: 8.36868181912744\n",
      "current weights: [[array([ 2.20995011, -3.92689263]), array([  8.8446018 , -15.40473657])], array([ 3.37235098,  2.59449901, -0.66216199])]\n",
      "output: 5.316165984574728\n",
      "epoch: 3000, err: 2.3734859007815357\n",
      "current weights: [[array([ 2.00449622, -3.96184543]), array([  8.87006975, -15.39088819])], array([ 3.54718267,  2.62377783, -0.71833413])]\n",
      "output: 5.455685074323993\n",
      "epoch: 4500, err: 7.762082782948541\n",
      "current weights: [[array([ 1.85947422, -3.98738287]), array([  8.88584445, -15.38226575])], array([ 3.57600848,  2.5753989 , -0.83008853])]\n",
      "output: 5.317356314671729\n",
      "epoch: 6000, err: 0.3355631906529995\n",
      "current weights: [[array([ 1.76670241, -4.00137374]), array([  8.89591012, -15.3768262 ])], array([ 3.6269728 ,  2.59067586, -0.85931321])]\n",
      "output: 3.935433009426935\n",
      "epoch: 7500, err: 14.535822633663756\n",
      "current weights: [[array([ 1.69240295, -4.01288323]), array([  8.9051554, -15.3717663])], array([ 3.66409085,  2.59030103, -0.89657268])]\n",
      "output: 5.345327287792479\n",
      "epoch: 9000, err: 0.6076432567387114\n",
      "current weights: [[array([ 1.62838668, -4.02295821]), array([  8.91267212, -15.36764254])], array([ 3.68614931,  2.59400836, -0.92493196])]\n",
      "output: 3.8189757026505275\n",
      "epoch: 10500, err: 0.1354801281800817\n",
      "current weights: [[array([ 1.56763522, -4.03464466]), array([  8.91993943, -15.36365454])], array([ 3.71268255,  2.62041639, -0.9292297 ])]\n",
      "output: 3.804123589605328\n",
      "epoch: 12000, err: 2.146644040271291\n",
      "current weights: [[array([ 1.51611704, -4.04087671]), array([  8.92543631, -15.36062817])], array([ 3.73444297,  2.63764583, -0.93835095])]\n",
      "output: 5.433002886753315\n",
      "epoch: 13500, err: 5.865400711076838\n",
      "current weights: [[array([ 1.47423204, -4.04638765]), array([  8.93049223, -15.3578182 ])], array([ 3.74255427,  2.63237992, -0.96568411])]\n",
      "output: 5.408888401622733\n",
      "epoch: 15000, err: 12.095676584580389\n",
      "current weights: [[array([ 1.43425238, -4.05172535]), array([  8.93527958, -15.35519511])], array([ 3.74460738,  2.62509635, -0.99485142])]\n",
      "output: 5.31292183182059\n",
      "epoch: 16500, err: 5.570256035865451\n",
      "current weights: [[array([ 1.39800572, -4.056733  ]), array([  8.93947594, -15.35291195])], array([ 3.78312037,  2.65656364, -0.98380067])]\n",
      "output: 5.455024666534715\n",
      "epoch: 18000, err: 16.799456057000288\n",
      "current weights: [[array([ 1.36554843, -4.06180322]), array([  8.94383923, -15.35049979])], array([ 3.80157496,  2.66881628, -0.98954405])]\n",
      "output: 5.2523907521220305\n",
      "epoch: 19500, err: 0.008014492594764716\n",
      "current weights: [[array([ 1.33505705, -4.06571447]), array([  8.94761551, -15.34837973])], array([ 3.82284417,  2.68781468, -0.98691802])]\n",
      "output: 3.83713112972841\n"
     ]
    }
   ],
   "source": [
    "weights = train()"
   ]
  },
  {
   "cell_type": "code",
   "execution_count": 321,
   "metadata": {},
   "outputs": [
    {
     "name": "stdout",
     "output_type": "stream",
     "text": [
      "[[array([ 2.45477325, -2.73888275]), array([ -2.4739769 , -12.77400399])], array([ 4.53112919, -1.96897199,  3.23589721])]\n"
     ]
    },
    {
     "data": {
      "text/plain": [
       "[<matplotlib.lines.Line2D at 0x7f99d85a36a0>]"
      ]
     },
     "execution_count": 321,
     "metadata": {},
     "output_type": "execute_result"
    },
    {
     "data": {
      "image/png": "[encoded data removed]",
      "text/plain": [
       "<Figure size 360x216 with 1 Axes>"
      ]
     },
     "metadata": {
      "needs_background": "light"
     },
     "output_type": "display_data"
    }
   ],
   "source": [
    "print(weights)\n",
    "\n",
    "line_indpt = np.linspace(-5, 2, 500)\n",
    "line = weights[1][1] * line_indpt + weights[1][2] * line_indpt + weights[1][0]\n",
    "plt.figure(figsize=(5,3))\n",
    "plt.scatter(d_nl['1'], d_nl[\"label\"])\n",
    "plt.plot(line_indpt, line, color=\"orange\")"
   ]
  },
  {
   "cell_type": "code",
   "execution_count": 78,
   "metadata": {},
   "outputs": [
    {
     "name": "stdout",
     "output_type": "stream",
     "text": [
      "[[-1.092798041883344, -0.49480167145947485], [-0.8328071561704362, -0.466513810172211]]\n"
     ]
    },
    {
     "ename": "ValueError",
     "evalue": "operands could not be broadcast together with shapes (2,) (100,) ",
     "output_type": "error",
     "traceback": [
      "\u001b[0;31m---------------------------------------------------------------------------\u001b[0m",
      "\u001b[0;31mValueError\u001b[0m                                Traceback (most recent call last)",
      "\u001b[0;32m<ipython-input-78-61218c99034d>\u001b[0m in \u001b[0;36m<module>\u001b[0;34m\u001b[0m\n\u001b[1;32m      1\u001b[0m \u001b[0mnn\u001b[0m \u001b[0;34m=\u001b[0m \u001b[0mNeuralNetwork\u001b[0m\u001b[0;34m(\u001b[0m\u001b[0mlayers\u001b[0m\u001b[0;34m=\u001b[0m\u001b[0;36m2\u001b[0m\u001b[0;34m,\u001b[0m \u001b[0mtraining_data\u001b[0m\u001b[0;34m=\u001b[0m\u001b[0mdata\u001b[0m\u001b[0;34m,\u001b[0m \u001b[0mepochs\u001b[0m\u001b[0;34m=\u001b[0m\u001b[0;36m10000\u001b[0m\u001b[0;34m,\u001b[0m \u001b[0mlearn_rate\u001b[0m\u001b[0;34m=\u001b[0m\u001b[0;36m0.01\u001b[0m\u001b[0;34m,\u001b[0m \u001b[0mnum_inputs\u001b[0m\u001b[0;34m=\u001b[0m\u001b[0;36m1\u001b[0m\u001b[0;34m)\u001b[0m\u001b[0;34m\u001b[0m\u001b[0;34m\u001b[0m\u001b[0m\n\u001b[0;32m----> 2\u001b[0;31m \u001b[0mnn\u001b[0m\u001b[0;34m.\u001b[0m\u001b[0mtrain\u001b[0m\u001b[0;34m(\u001b[0m\u001b[0;34m)\u001b[0m\u001b[0;34m\u001b[0m\u001b[0;34m\u001b[0m\u001b[0m\n\u001b[0m",
      "\u001b[0;32m<ipython-input-77-26d0ec73ffd6>\u001b[0m in \u001b[0;36mtrain\u001b[0;34m(self)\u001b[0m\n\u001b[1;32m     72\u001b[0m             \u001b[0minp\u001b[0m \u001b[0;34m=\u001b[0m \u001b[0mself\u001b[0m\u001b[0;34m.\u001b[0m\u001b[0mprepare_x\u001b[0m\u001b[0;34m(\u001b[0m\u001b[0mindex\u001b[0m\u001b[0;34m)\u001b[0m\u001b[0;34m\u001b[0m\u001b[0;34m\u001b[0m\u001b[0m\n\u001b[1;32m     73\u001b[0m             \u001b[0mself\u001b[0m\u001b[0;34m.\u001b[0m\u001b[0mA\u001b[0m\u001b[0;34m.\u001b[0m\u001b[0mappend\u001b[0m\u001b[0;34m(\u001b[0m\u001b[0minp\u001b[0m\u001b[0;34m)\u001b[0m\u001b[0;34m\u001b[0m\u001b[0;34m\u001b[0m\u001b[0m\n\u001b[0;32m---> 74\u001b[0;31m             \u001b[0mself\u001b[0m\u001b[0;34m.\u001b[0m\u001b[0mtrain_partial\u001b[0m\u001b[0;34m(\u001b[0m\u001b[0;34m)\u001b[0m\u001b[0;34m\u001b[0m\u001b[0;34m\u001b[0m\u001b[0m\n\u001b[0m\u001b[1;32m     75\u001b[0m \u001b[0;34m\u001b[0m\u001b[0m\n\u001b[1;32m     76\u001b[0m         \u001b[0;32mreturn\u001b[0m \u001b[0mself\u001b[0m\u001b[0;34m.\u001b[0m\u001b[0mweights\u001b[0m\u001b[0;34m\u001b[0m\u001b[0;34m\u001b[0m\u001b[0m\n",
      "\u001b[0;32m<ipython-input-77-26d0ec73ffd6>\u001b[0m in \u001b[0;36mtrain_partial\u001b[0;34m(self)\u001b[0m\n\u001b[1;32m     52\u001b[0m \u001b[0;34m\u001b[0m\u001b[0m\n\u001b[1;32m     53\u001b[0m         \u001b[0;31m#calculate the loss (error)\u001b[0m\u001b[0;34m\u001b[0m\u001b[0;34m\u001b[0m\u001b[0;34m\u001b[0m\u001b[0m\n\u001b[0;32m---> 54\u001b[0;31m         \u001b[0merr\u001b[0m \u001b[0;34m=\u001b[0m \u001b[0mself\u001b[0m\u001b[0;34m.\u001b[0m\u001b[0merror\u001b[0m\u001b[0;34m(\u001b[0m\u001b[0mself\u001b[0m\u001b[0;34m.\u001b[0m\u001b[0mA\u001b[0m\u001b[0;34m[\u001b[0m\u001b[0;34m-\u001b[0m\u001b[0;36m1\u001b[0m\u001b[0;34m]\u001b[0m\u001b[0;34m,\u001b[0m \u001b[0mself\u001b[0m\u001b[0;34m.\u001b[0m\u001b[0mlabel\u001b[0m\u001b[0;34m)\u001b[0m\u001b[0;34m\u001b[0m\u001b[0;34m\u001b[0m\u001b[0m\n\u001b[0m\u001b[1;32m     55\u001b[0m         \u001b[0mpartials\u001b[0m \u001b[0;34m=\u001b[0m \u001b[0;34m[\u001b[0m\u001b[0merr\u001b[0m \u001b[0;34m*\u001b[0m \u001b[0mself\u001b[0m\u001b[0;34m.\u001b[0m\u001b[0msigmoid_deriv\u001b[0m\u001b[0;34m(\u001b[0m\u001b[0mself\u001b[0m\u001b[0;34m.\u001b[0m\u001b[0mA\u001b[0m\u001b[0;34m[\u001b[0m\u001b[0;34m-\u001b[0m\u001b[0;36m1\u001b[0m\u001b[0;34m]\u001b[0m\u001b[0;34m)\u001b[0m\u001b[0;34m]\u001b[0m \u001b[0;31m# partial of the last layer\u001b[0m\u001b[0;34m\u001b[0m\u001b[0;34m\u001b[0m\u001b[0m\n\u001b[1;32m     56\u001b[0m \u001b[0;34m\u001b[0m\u001b[0m\n",
      "\u001b[0;32m<ipython-input-77-26d0ec73ffd6>\u001b[0m in \u001b[0;36merror\u001b[0;34m(self, predicted, target)\u001b[0m\n\u001b[1;32m     38\u001b[0m \u001b[0;34m\u001b[0m\u001b[0m\n\u001b[1;32m     39\u001b[0m     \u001b[0;32mdef\u001b[0m \u001b[0merror\u001b[0m\u001b[0;34m(\u001b[0m\u001b[0mself\u001b[0m\u001b[0;34m,\u001b[0m \u001b[0mpredicted\u001b[0m\u001b[0;34m,\u001b[0m \u001b[0mtarget\u001b[0m\u001b[0;34m)\u001b[0m\u001b[0;34m:\u001b[0m\u001b[0;34m\u001b[0m\u001b[0;34m\u001b[0m\u001b[0m\n\u001b[0;32m---> 40\u001b[0;31m         \u001b[0;32mreturn\u001b[0m \u001b[0mnp\u001b[0m\u001b[0;34m.\u001b[0m\u001b[0mpower\u001b[0m\u001b[0;34m(\u001b[0m\u001b[0mpredicted\u001b[0m\u001b[0;34m-\u001b[0m\u001b[0mtarget\u001b[0m\u001b[0;34m,\u001b[0m \u001b[0;36m2\u001b[0m\u001b[0;34m)\u001b[0m\u001b[0;34m\u001b[0m\u001b[0;34m\u001b[0m\u001b[0m\n\u001b[0m\u001b[1;32m     41\u001b[0m \u001b[0;34m\u001b[0m\u001b[0m\n\u001b[1;32m     42\u001b[0m     \u001b[0;32mdef\u001b[0m \u001b[0merror_predicted_deriv\u001b[0m\u001b[0;34m(\u001b[0m\u001b[0mself\u001b[0m\u001b[0;34m,\u001b[0m \u001b[0mpredicted\u001b[0m\u001b[0;34m,\u001b[0m \u001b[0mtarget\u001b[0m\u001b[0;34m)\u001b[0m\u001b[0;34m:\u001b[0m\u001b[0;34m\u001b[0m\u001b[0;34m\u001b[0m\u001b[0m\n",
      "\u001b[0;31mValueError\u001b[0m: operands could not be broadcast together with shapes (2,) (100,) "
     ]
    }
   ],
   "source": [
    "nn = NeuralNetwork(layers=2, training_data=data, epochs=10000, learn_rate=0.01, num_inputs=1)\n",
    "nn.train()"
   ]
  },
  {
   "cell_type": "code",
   "execution_count": 35,
   "metadata": {},
   "outputs": [
    {
     "data": {
      "text/plain": [
       "1"
      ]
     },
     "execution_count": 35,
     "metadata": {},
     "output_type": "execute_result"
    }
   ],
   "source": [
    "np.random.randint(0, 10)"
   ]
  }
 ],
 "metadata": {
  "kernelspec": {
   "display_name": "base",
   "language": "python",
   "name": "python3"
  },
  "language_info": {
   "codemirror_mode": {
    "name": "ipython",
    "version": 3
   },
   "file_extension": ".py",
   "mimetype": "text/x-python",
   "name": "python",
   "nbconvert_exporter": "python",
   "pygments_lexer": "ipython3",
   "version": "3.9.1"
  },
  "orig_nbformat": 4
 },
 "nbformat": 4,
 "nbformat_minor": 2
}
