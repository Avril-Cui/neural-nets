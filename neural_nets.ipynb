{
 "cells": [
  {
   "cell_type": "code",
   "execution_count": 8,
   "metadata": {},
   "outputs": [],
   "source": [
    "import numpy as np\n",
    "import matplotlib.pyplot as plt\n",
    "import pandas as pd"
   ]
  },
  {
   "attachments": {},
   "cell_type": "markdown",
   "metadata": {},
   "source": [
    "# Generate Data"
   ]
  },
  {
   "cell_type": "code",
   "execution_count": 183,
   "metadata": {},
   "outputs": [
    {
     "data": {
      "text/plain": [
       "[<matplotlib.lines.Line2D at 0x7f99d84c5ee0>]"
      ]
     },
     "execution_count": 183,
     "metadata": {},
     "output_type": "execute_result"
    },
    {
     "data": {
      "image/png": "[encoded data removed]",
      "text/plain": [
       "<Figure size 432x288 with 1 Axes>"
      ]
     },
     "metadata": {
      "needs_background": "light"
     },
     "output_type": "display_data"
    }
   ],
   "source": [
    "np.random.seed(7)\n",
    "x = 7 * np.random.rand(100, 1) - 5\n",
    "y = 0.8 * x**2 + 0.9*x + 2 + np.random.randn(100, 1)\n",
    "raw_data = {\n",
    "    \"1\": [item for sublist in x for item in sublist],\n",
    "    \"label\": [item for sublist in y for item in sublist]\n",
    "}\n",
    "d_nl = pd.DataFrame(raw_data)\n",
    "\n",
    "plt.plot(d_nl[\"1\"], d_nl[\"label\"], 'b.', alpha=0.5)"
   ]
  },
  {
   "cell_type": "code",
   "execution_count": 184,
   "metadata": {},
   "outputs": [
    {
     "data": {
      "text/html": [
       "<div>\n",
       "<style scoped>\n",
       "    .dataframe tbody tr th:only-of-type {\n",
       "        vertical-align: middle;\n",
       "    }\n",
       "\n",
       "    .dataframe tbody tr th {\n",
       "        vertical-align: top;\n",
       "    }\n",
       "\n",
       "    .dataframe thead th {\n",
       "        text-align: right;\n",
       "    }\n",
       "</style>\n",
       "<table border=\"1\" class=\"dataframe\">\n",
       "  <thead>\n",
       "    <tr style=\"text-align: right;\">\n",
       "      <th></th>\n",
       "      <th>1</th>\n",
       "      <th>label</th>\n",
       "    </tr>\n",
       "  </thead>\n",
       "  <tbody>\n",
       "    <tr>\n",
       "      <th>0</th>\n",
       "      <td>-4.465842</td>\n",
       "      <td>13.739711</td>\n",
       "    </tr>\n",
       "    <tr>\n",
       "      <th>1</th>\n",
       "      <td>0.459432</td>\n",
       "      <td>1.991580</td>\n",
       "    </tr>\n",
       "    <tr>\n",
       "      <th>2</th>\n",
       "      <td>-1.931135</td>\n",
       "      <td>2.945694</td>\n",
       "    </tr>\n",
       "    <tr>\n",
       "      <th>3</th>\n",
       "      <td>0.064256</td>\n",
       "      <td>3.358019</td>\n",
       "    </tr>\n",
       "    <tr>\n",
       "      <th>4</th>\n",
       "      <td>1.845927</td>\n",
       "      <td>7.916870</td>\n",
       "    </tr>\n",
       "  </tbody>\n",
       "</table>\n",
       "</div>"
      ],
      "text/plain": [
       "          1      label\n",
       "0 -4.465842  13.739711\n",
       "1  0.459432   1.991580\n",
       "2 -1.931135   2.945694\n",
       "3  0.064256   3.358019\n",
       "4  1.845927   7.916870"
      ]
     },
     "execution_count": 184,
     "metadata": {},
     "output_type": "execute_result"
    }
   ],
   "source": [
    "d_nl.head(5)"
   ]
  },
  {
   "attachments": {},
   "cell_type": "markdown",
   "metadata": {},
   "source": [
    "# Neural Network Algorithm"
   ]
  },
  {
   "attachments": {},
   "cell_type": "markdown",
   "metadata": {},
   "source": [
    "To-Dos:\n",
    "1. First write in function form, then generalize to a class\n",
    "2. Add different types of activation functions and experiment with their differences"
   ]
  },
  {
   "attachments": {},
   "cell_type": "markdown",
   "metadata": {},
   "source": [
    "## Initialization"
   ]
  },
  {
   "cell_type": "code",
   "execution_count": 186,
   "metadata": {},
   "outputs": [],
   "source": [
    "# initialize parameters\n",
    "layers = 1\n",
    "epochs = 20000\n",
    "num_inputs = 1\n",
    "label = d_nl['label'].to_numpy()"
   ]
  },
  {
   "cell_type": "code",
   "execution_count": 187,
   "metadata": {},
   "outputs": [
    {
     "name": "stdout",
     "output_type": "stream",
     "text": [
      "[[0.11655993973536867, -1.8538058715077061]]\n"
     ]
    }
   ],
   "source": [
    "# initialize weights\n",
    "def init_weights(num_inputs):\n",
    "    \"\"\"\n",
    "        Initialize weights at random from a Gaussian distribution\n",
    "        with mean 0 and standard deviation 1/m\n",
    "    \"\"\"\n",
    "\n",
    "    weights_init = []\n",
    "    for _ in range(layers):\n",
    "        w_l = [np.random.normal(0, 1)] # weight parameters for one layer， [wl_0, wl]\n",
    "        for _ in range(num_inputs):\n",
    "            w_l.append(np.random.normal(0, 1/num_inputs))\n",
    "        weights_init.append(w_l)\n",
    "    return weights_init\n",
    "\n",
    "print(init_weights(num_inputs))"
   ]
  },
  {
   "cell_type": "code",
   "execution_count": 188,
   "metadata": {},
   "outputs": [],
   "source": [
    "def prepare_x(index, training_data):\n",
    "    x = [1]\n",
    "    for column_name in training_data.columns:\n",
    "        if column_name != \"label\":\n",
    "            x.append(training_data[column_name].to_numpy()[index])\n",
    "    return x"
   ]
  },
  {
   "cell_type": "code",
   "execution_count": 189,
   "metadata": {},
   "outputs": [],
   "source": [
    "# helper functions\n",
    "def sigmoid(Z):\n",
    "    return [1.0 / (1.0 + np.exp(-z)) for z in Z]\n",
    "\n",
    "def sigmoid_nl(z):\n",
    "    return 1.0 / (1.0 + np.exp(-z))\n",
    "\n",
    "def sigmoid_deriv(Z):\n",
    "    return [sigmoid_nl(z)*(1-sigmoid_nl(z)) for z in Z]\n",
    "\n",
    "def error(predicted, target):\n",
    "    return np.power(predicted-target, 2)\n",
    "\n",
    "def error_predicted_deriv(predicted, target):\n",
    "    return 2*(predicted-target)"
   ]
  },
  {
   "attachments": {},
   "cell_type": "markdown",
   "metadata": {},
   "source": [
    "## NN Training"
   ]
  },
  {
   "cell_type": "code",
   "execution_count": 190,
   "metadata": {},
   "outputs": [],
   "source": [
    "# per iteration (epoch) training\n",
    "def train_epoch(A0, index, learn_rate, weights, epoch):\n",
    "    \"\"\"\n",
    "        A0 is x_i, where i is randomly selected from gd\n",
    "    \"\"\"\n",
    "    A = [A0]\n",
    "    z = [0]\n",
    "    w = weights\n",
    "\n",
    "    # feedforward\n",
    "    for layer in range(layers):\n",
    "        z_l = np.multiply(np.transpose(w[layer]), A[layer])\n",
    "        A_l = sigmoid(z_l)\n",
    "        A.append(A_l)\n",
    "        z.append(z_l)\n",
    "\n",
    "    if epoch % 1500 == 0:\n",
    "        err = error(A[-1], label[index])\n",
    "        print(f\"epoch: {epoch}, err: {err}\")\n",
    "        print(f\"current weights: {w}\")\n",
    "\n",
    "    # backward propagation\n",
    "    for layer in np.arange(layers, 0, -1):\n",
    "        error_deriv = error_predicted_deriv(A[layer], label[index])\n",
    "        sigm_deriv = sigmoid_deriv(z[layer])\n",
    "        gradient = np.multiply(np.multiply(sigm_deriv, error_deriv), A[layer-1])\n",
    "        w[layer-1] -= learn_rate * gradient\n",
    "    \n",
    "    return w"
   ]
  },
  {
   "cell_type": "code",
   "execution_count": 191,
   "metadata": {},
   "outputs": [],
   "source": [
    "# perform sgd\n",
    "def train():\n",
    "    weights = init_weights(num_inputs)\n",
    "        \n",
    "    for t in range(epochs):\n",
    "        learn_rate = 1\n",
    "        if t != 0:\n",
    "            learn_rate = 1/t\n",
    "        length = len(label)\n",
    "        index = np.random.randint(0, length-1)\n",
    "        inpt = prepare_x(index, d_nl)\n",
    "        weights = train_epoch(A0=inpt, index=index, learn_rate=learn_rate, weights=weights, epoch=t)\n",
    "    \n",
    "    return weights"
   ]
  },
  {
   "cell_type": "code",
   "execution_count": 192,
   "metadata": {},
   "outputs": [
    {
     "name": "stdout",
     "output_type": "stream",
     "text": [
      "epoch: 0, err: [20.58486197 20.81216526]\n",
      "current weights: [[-1.3698597189791943, 0.7311543854273908]]\n",
      "epoch: 1500, err: [107.06319723 106.89780345]\n",
      "current weights: [array([ 4.5067113 , -1.46943788])]\n",
      "epoch: 3000, err: [4.21773804 4.34986899]\n",
      "current weights: [array([ 4.56635211, -1.4802737 ])]\n",
      "epoch: 4500, err: [1.43957656 1.80324042]\n",
      "current weights: [array([ 4.59979205, -1.47464641])]\n",
      "epoch: 6000, err: [3.03780091 3.3266127 ]\n",
      "current weights: [array([ 4.62303082, -1.47326644])]\n",
      "epoch: 7500, err: [14.76077272 14.9021236 ]\n",
      "current weights: [array([ 4.64004603, -1.47462329])]\n",
      "epoch: 9000, err: [2.17763474 3.81675707]\n",
      "current weights: [array([ 4.65404752, -1.471807  ])]\n",
      "epoch: 10500, err: [25.67018387 35.8442433 ]\n",
      "current weights: [array([ 4.66634592, -1.47188243])]\n",
      "epoch: 12000, err: [2.00568685 3.90289174]\n",
      "current weights: [array([ 4.67634458, -1.46967509])]\n",
      "epoch: 13500, err: [ 7.59970303 13.41407214]\n",
      "current weights: [array([ 4.68497941, -1.47039431])]\n",
      "epoch: 15000, err: [1.24576087 1.38107796]\n",
      "current weights: [array([ 4.69300725, -1.47316962])]\n",
      "epoch: 16500, err: [40.58940661 40.70016523]\n",
      "current weights: [array([ 4.69982588, -1.47168525])]\n",
      "epoch: 18000, err: [4.21226794 4.35281535]\n",
      "current weights: [array([ 4.7063608 , -1.47205647])]\n",
      "epoch: 19500, err: [16.85630697 25.1593114 ]\n",
      "current weights: [array([ 4.71209545, -1.47258601])]\n"
     ]
    }
   ],
   "source": [
    "weights = train()"
   ]
  },
  {
   "cell_type": "code",
   "execution_count": 196,
   "metadata": {},
   "outputs": [
    {
     "name": "stdout",
     "output_type": "stream",
     "text": [
      "[array([ 4.71387437, -1.4721602 ])]\n"
     ]
    },
    {
     "data": {
      "text/plain": [
       "[<matplotlib.lines.Line2D at 0x7f9a185bac40>]"
      ]
     },
     "execution_count": 196,
     "metadata": {},
     "output_type": "execute_result"
    },
    {
     "data": {
      "image/png": "[encoded data removed]",
      "text/plain": [
       "<Figure size 360x216 with 1 Axes>"
      ]
     },
     "metadata": {
      "needs_background": "light"
     },
     "output_type": "display_data"
    }
   ],
   "source": [
    "print(weights)\n",
    "\n",
    "line_indpt = np.linspace(-5, 2, 500)\n",
    "line = weights[0][1] * line_indpt + weights[0][0]\n",
    "plt.figure(figsize=(5,3))\n",
    "plt.scatter(d_nl['1'], d_nl[\"label\"])\n",
    "plt.plot(line_indpt, line, color=\"orange\")"
   ]
  },
  {
   "cell_type": "code",
   "execution_count": 78,
   "metadata": {},
   "outputs": [
    {
     "name": "stdout",
     "output_type": "stream",
     "text": [
      "[[-1.092798041883344, -0.49480167145947485], [-0.8328071561704362, -0.466513810172211]]\n"
     ]
    },
    {
     "ename": "ValueError",
     "evalue": "operands could not be broadcast together with shapes (2,) (100,) ",
     "output_type": "error",
     "traceback": [
      "\u001b[0;31m---------------------------------------------------------------------------\u001b[0m",
      "\u001b[0;31mValueError\u001b[0m                                Traceback (most recent call last)",
      "\u001b[0;32m<ipython-input-78-61218c99034d>\u001b[0m in \u001b[0;36m<module>\u001b[0;34m\u001b[0m\n\u001b[1;32m      1\u001b[0m \u001b[0mnn\u001b[0m \u001b[0;34m=\u001b[0m \u001b[0mNeuralNetwork\u001b[0m\u001b[0;34m(\u001b[0m\u001b[0mlayers\u001b[0m\u001b[0;34m=\u001b[0m\u001b[0;36m2\u001b[0m\u001b[0;34m,\u001b[0m \u001b[0mtraining_data\u001b[0m\u001b[0;34m=\u001b[0m\u001b[0mdata\u001b[0m\u001b[0;34m,\u001b[0m \u001b[0mepochs\u001b[0m\u001b[0;34m=\u001b[0m\u001b[0;36m10000\u001b[0m\u001b[0;34m,\u001b[0m \u001b[0mlearn_rate\u001b[0m\u001b[0;34m=\u001b[0m\u001b[0;36m0.01\u001b[0m\u001b[0;34m,\u001b[0m \u001b[0mnum_inputs\u001b[0m\u001b[0;34m=\u001b[0m\u001b[0;36m1\u001b[0m\u001b[0;34m)\u001b[0m\u001b[0;34m\u001b[0m\u001b[0;34m\u001b[0m\u001b[0m\n\u001b[0;32m----> 2\u001b[0;31m \u001b[0mnn\u001b[0m\u001b[0;34m.\u001b[0m\u001b[0mtrain\u001b[0m\u001b[0;34m(\u001b[0m\u001b[0;34m)\u001b[0m\u001b[0;34m\u001b[0m\u001b[0;34m\u001b[0m\u001b[0m\n\u001b[0m",
      "\u001b[0;32m<ipython-input-77-26d0ec73ffd6>\u001b[0m in \u001b[0;36mtrain\u001b[0;34m(self)\u001b[0m\n\u001b[1;32m     72\u001b[0m             \u001b[0minp\u001b[0m \u001b[0;34m=\u001b[0m \u001b[0mself\u001b[0m\u001b[0;34m.\u001b[0m\u001b[0mprepare_x\u001b[0m\u001b[0;34m(\u001b[0m\u001b[0mindex\u001b[0m\u001b[0;34m)\u001b[0m\u001b[0;34m\u001b[0m\u001b[0;34m\u001b[0m\u001b[0m\n\u001b[1;32m     73\u001b[0m             \u001b[0mself\u001b[0m\u001b[0;34m.\u001b[0m\u001b[0mA\u001b[0m\u001b[0;34m.\u001b[0m\u001b[0mappend\u001b[0m\u001b[0;34m(\u001b[0m\u001b[0minp\u001b[0m\u001b[0;34m)\u001b[0m\u001b[0;34m\u001b[0m\u001b[0;34m\u001b[0m\u001b[0m\n\u001b[0;32m---> 74\u001b[0;31m             \u001b[0mself\u001b[0m\u001b[0;34m.\u001b[0m\u001b[0mtrain_partial\u001b[0m\u001b[0;34m(\u001b[0m\u001b[0;34m)\u001b[0m\u001b[0;34m\u001b[0m\u001b[0;34m\u001b[0m\u001b[0m\n\u001b[0m\u001b[1;32m     75\u001b[0m \u001b[0;34m\u001b[0m\u001b[0m\n\u001b[1;32m     76\u001b[0m         \u001b[0;32mreturn\u001b[0m \u001b[0mself\u001b[0m\u001b[0;34m.\u001b[0m\u001b[0mweights\u001b[0m\u001b[0;34m\u001b[0m\u001b[0;34m\u001b[0m\u001b[0m\n",
      "\u001b[0;32m<ipython-input-77-26d0ec73ffd6>\u001b[0m in \u001b[0;36mtrain_partial\u001b[0;34m(self)\u001b[0m\n\u001b[1;32m     52\u001b[0m \u001b[0;34m\u001b[0m\u001b[0m\n\u001b[1;32m     53\u001b[0m         \u001b[0;31m#calculate the loss (error)\u001b[0m\u001b[0;34m\u001b[0m\u001b[0;34m\u001b[0m\u001b[0;34m\u001b[0m\u001b[0m\n\u001b[0;32m---> 54\u001b[0;31m         \u001b[0merr\u001b[0m \u001b[0;34m=\u001b[0m \u001b[0mself\u001b[0m\u001b[0;34m.\u001b[0m\u001b[0merror\u001b[0m\u001b[0;34m(\u001b[0m\u001b[0mself\u001b[0m\u001b[0;34m.\u001b[0m\u001b[0mA\u001b[0m\u001b[0;34m[\u001b[0m\u001b[0;34m-\u001b[0m\u001b[0;36m1\u001b[0m\u001b[0;34m]\u001b[0m\u001b[0;34m,\u001b[0m \u001b[0mself\u001b[0m\u001b[0;34m.\u001b[0m\u001b[0mlabel\u001b[0m\u001b[0;34m)\u001b[0m\u001b[0;34m\u001b[0m\u001b[0;34m\u001b[0m\u001b[0m\n\u001b[0m\u001b[1;32m     55\u001b[0m         \u001b[0mpartials\u001b[0m \u001b[0;34m=\u001b[0m \u001b[0;34m[\u001b[0m\u001b[0merr\u001b[0m \u001b[0;34m*\u001b[0m \u001b[0mself\u001b[0m\u001b[0;34m.\u001b[0m\u001b[0msigmoid_deriv\u001b[0m\u001b[0;34m(\u001b[0m\u001b[0mself\u001b[0m\u001b[0;34m.\u001b[0m\u001b[0mA\u001b[0m\u001b[0;34m[\u001b[0m\u001b[0;34m-\u001b[0m\u001b[0;36m1\u001b[0m\u001b[0;34m]\u001b[0m\u001b[0;34m)\u001b[0m\u001b[0;34m]\u001b[0m \u001b[0;31m# partial of the last layer\u001b[0m\u001b[0;34m\u001b[0m\u001b[0;34m\u001b[0m\u001b[0m\n\u001b[1;32m     56\u001b[0m \u001b[0;34m\u001b[0m\u001b[0m\n",
      "\u001b[0;32m<ipython-input-77-26d0ec73ffd6>\u001b[0m in \u001b[0;36merror\u001b[0;34m(self, predicted, target)\u001b[0m\n\u001b[1;32m     38\u001b[0m \u001b[0;34m\u001b[0m\u001b[0m\n\u001b[1;32m     39\u001b[0m     \u001b[0;32mdef\u001b[0m \u001b[0merror\u001b[0m\u001b[0;34m(\u001b[0m\u001b[0mself\u001b[0m\u001b[0;34m,\u001b[0m \u001b[0mpredicted\u001b[0m\u001b[0;34m,\u001b[0m \u001b[0mtarget\u001b[0m\u001b[0;34m)\u001b[0m\u001b[0;34m:\u001b[0m\u001b[0;34m\u001b[0m\u001b[0;34m\u001b[0m\u001b[0m\n\u001b[0;32m---> 40\u001b[0;31m         \u001b[0;32mreturn\u001b[0m \u001b[0mnp\u001b[0m\u001b[0;34m.\u001b[0m\u001b[0mpower\u001b[0m\u001b[0;34m(\u001b[0m\u001b[0mpredicted\u001b[0m\u001b[0;34m-\u001b[0m\u001b[0mtarget\u001b[0m\u001b[0;34m,\u001b[0m \u001b[0;36m2\u001b[0m\u001b[0;34m)\u001b[0m\u001b[0;34m\u001b[0m\u001b[0;34m\u001b[0m\u001b[0m\n\u001b[0m\u001b[1;32m     41\u001b[0m \u001b[0;34m\u001b[0m\u001b[0m\n\u001b[1;32m     42\u001b[0m     \u001b[0;32mdef\u001b[0m \u001b[0merror_predicted_deriv\u001b[0m\u001b[0;34m(\u001b[0m\u001b[0mself\u001b[0m\u001b[0;34m,\u001b[0m \u001b[0mpredicted\u001b[0m\u001b[0;34m,\u001b[0m \u001b[0mtarget\u001b[0m\u001b[0;34m)\u001b[0m\u001b[0;34m:\u001b[0m\u001b[0;34m\u001b[0m\u001b[0;34m\u001b[0m\u001b[0m\n",
      "\u001b[0;31mValueError\u001b[0m: operands could not be broadcast together with shapes (2,) (100,) "
     ]
    }
   ],
   "source": [
    "nn = NeuralNetwork(layers=2, training_data=data, epochs=10000, learn_rate=0.01, num_inputs=1)\n",
    "nn.train()"
   ]
  },
  {
   "cell_type": "code",
   "execution_count": 35,
   "metadata": {},
   "outputs": [
    {
     "data": {
      "text/plain": [
       "1"
      ]
     },
     "execution_count": 35,
     "metadata": {},
     "output_type": "execute_result"
    }
   ],
   "source": [
    "np.random.randint(0, 10)"
   ]
  }
 ],
 "metadata": {
  "kernelspec": {
   "display_name": "base",
   "language": "python",
   "name": "python3"
  },
  "language_info": {
   "codemirror_mode": {
    "name": "ipython",
    "version": 3
   },
   "file_extension": ".py",
   "mimetype": "text/x-python",
   "name": "python",
   "nbconvert_exporter": "python",
   "pygments_lexer": "ipython3",
   "version": "3.9.1"
  },
  "orig_nbformat": 4
 },
 "nbformat": 4,
 "nbformat_minor": 2
}
