{
 "cells": [
  {
   "cell_type": "code",
   "execution_count": 2,
   "metadata": {},
   "outputs": [],
   "source": [
    "import numpy as np\n",
    "import matplotlib.pyplot as plt"
   ]
  },
  {
   "cell_type": "code",
   "execution_count": 3,
   "metadata": {},
   "outputs": [
    {
     "name": "stdout",
     "output_type": "stream",
     "text": [
      "Initial W: 0.6092772143786414, 0.8861955582172956\n"
     ]
    }
   ],
   "source": [
    "x_1 = 0.1\n",
    "x_2 = 0.4\n",
    "\n",
    "target = 0.7\n",
    "learning_rate = 0.01\n",
    "\n",
    "w_1 = np.random.rand()\n",
    "w_2 = np.random.rand()\n",
    "\n",
    "print(f\"Initial W: {w_1}, {w_2}\")\n",
    "\n",
    "predicted_output = []\n",
    "network_error = []"
   ]
  },
  {
   "cell_type": "code",
   "execution_count": 4,
   "metadata": {},
   "outputs": [],
   "source": [
    "def sigmoid(z):\n",
    "    return 1/(1+np.exp(-1*z))\n",
    "\n",
    "def error(predicted, target):\n",
    "    return np.power(predicted-target, 2)\n",
    "\n",
    "def error_predicted_deriv(predicted, target):\n",
    "    return 2*(predicted-target)\n",
    "\n",
    "def sigmoid_deriv(z):\n",
    "    return(sigmoid(z)*(1-sigmoid(z)))\n",
    "\n",
    "def update_w(w, grad, learning_rate):\n",
    "    return w - learning_rate*grad\n",
    "\n",
    "def z_w_deriv(z):\n",
    "    return z\n",
    "\n",
    "for k in range(80000):\n",
    "    #forward process\n",
    "    y = w_1*x_1 + w_2*x_2\n",
    "    predicted = sigmoid(y)\n",
    "    err = error(predicted, target)\n",
    "\n",
    "    predicted_output.append(predicted)\n",
    "    network_error.append(err)\n",
    "\n",
    "    #backward process\n",
    "    dloss_da = error_predicted_deriv(predicted, target)\n",
    "    da_dz = sigmoid_deriv(y)\n",
    "    dz_dw1 = z_w_deriv(x_1)\n",
    "    dz_dw2 = z_w_deriv(x_2)\n",
    "\n",
    "    gradw1 = dloss_da * da_dz * dz_dw1\n",
    "    gradw2 = dloss_da * da_dz * dz_dw2\n",
    "\n",
    "    w_1 = update_w(w_1, gradw1, learning_rate)\n",
    "    w_2 = update_w(w_2, gradw2, learning_rate)\n"
   ]
  },
  {
   "cell_type": "code",
   "execution_count": 5,
   "metadata": {},
   "outputs": [
    {
     "data": {
      "text/plain": [
       "[<matplotlib.lines.Line2D at 0x7f986891b910>]"
      ]
     },
     "execution_count": 5,
     "metadata": {},
     "output_type": "execute_result"
    },
    {
     "data": {
      "image/png": "[encoded data removed]",
      "text/plain": [
       "<Figure size 432x288 with 1 Axes>"
      ]
     },
     "metadata": {
      "needs_background": "light"
     },
     "output_type": "display_data"
    }
   ],
   "source": [
    "#visualize error\n",
    "plt.figure(figsize=(6,4))\n",
    "plt.plot(network_error)"
   ]
  },
  {
   "cell_type": "code",
   "execution_count": 6,
   "metadata": {},
   "outputs": [
    {
     "data": {
      "text/plain": [
       "[<matplotlib.lines.Line2D at 0x7f98793abca0>]"
      ]
     },
     "execution_count": 6,
     "metadata": {},
     "output_type": "execute_result"
    },
    {
     "data": {
      "image/png": "[encoded data removed]",
      "text/plain": [
       "<Figure size 432x288 with 1 Axes>"
      ]
     },
     "metadata": {
      "needs_background": "light"
     },
     "output_type": "display_data"
    }
   ],
   "source": [
    "#visualize output\n",
    "plt.figure(figsize=(6,4))\n",
    "plt.plot(predicted_output) # result should converge to 0.7 (target value)"
   ]
  }
 ],
 "metadata": {
  "kernelspec": {
   "display_name": "base",
   "language": "python",
   "name": "python3"
  },
  "language_info": {
   "codemirror_mode": {
    "name": "ipython",
    "version": 3
   },
   "file_extension": ".py",
   "mimetype": "text/x-python",
   "name": "python",
   "nbconvert_exporter": "python",
   "pygments_lexer": "ipython3",
   "version": "3.9.1"
  },
  "orig_nbformat": 4
 },
 "nbformat": 4,
 "nbformat_minor": 2
}
