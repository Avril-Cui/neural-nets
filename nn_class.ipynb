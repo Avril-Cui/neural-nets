{
 "cells": [
  {
   "cell_type": "code",
   "execution_count": 2,
   "metadata": {},
   "outputs": [],
   "source": [
    "import numpy as np\n",
    "import matplotlib.pyplot as plt\n",
    "import pandas as pd"
   ]
  },
  {
   "attachments": {},
   "cell_type": "markdown",
   "metadata": {},
   "source": [
    "# Generate Data"
   ]
  },
  {
   "cell_type": "code",
   "execution_count": 3,
   "metadata": {},
   "outputs": [
    {
     "data": {
      "text/plain": [
       "[<matplotlib.lines.Line2D at 0x7fec90063c10>]"
      ]
     },
     "execution_count": 3,
     "metadata": {},
     "output_type": "execute_result"
    },
    {
     "data": {
      "image/png": "[encoded data removed]",
      "text/plain": [
       "<Figure size 432x288 with 1 Axes>"
      ]
     },
     "metadata": {
      "needs_background": "light"
     },
     "output_type": "display_data"
    }
   ],
   "source": [
    "np.random.seed(7)\n",
    "x = 7 * np.random.rand(100, 1) - 5\n",
    "y = 0.8 * x**2 + 0.9*x + 2 + np.random.randn(100, 1)\n",
    "raw_data = {\n",
    "    \"1\": [item for sublist in x for item in sublist],\n",
    "    \"label\": [item for sublist in y for item in sublist]\n",
    "}\n",
    "d_nl = pd.DataFrame(raw_data)\n",
    "\n",
    "plt.plot(d_nl[\"1\"], d_nl[\"label\"], 'b.', alpha=0.5)"
   ]
  },
  {
   "attachments": {},
   "cell_type": "markdown",
   "metadata": {},
   "source": [
    "# Neural Network Algorithm"
   ]
  },
  {
   "cell_type": "code",
   "execution_count": 14,
   "metadata": {},
   "outputs": [],
   "source": [
    "class NeuralNetwork:\n",
    "\n",
    "    def __init__(self, hidden_neurons, training_data, layers=2, epochs=20000):\n",
    "        self.layers = layers # for regression, assume num of layers is 2\n",
    "        self.hidden_neurons = hidden_neurons\n",
    "        self.epochs = epochs\n",
    "        self.training_data = training_data\n",
    "\n",
    "        self.label = self.training_data['label'].to_numpy()\n",
    "        self.weights = self.init_weights()\n",
    "    \n",
    "    def init_weights(self):\n",
    "        w_l1 = []\n",
    "        w_l2 = [np.random.normal(0, 1)]\n",
    "\n",
    "        for _ in range(self.hidden_neurons):\n",
    "            w_l1.append([np.random.normal(0, 1), np.random.normal(0, 1)])\n",
    "            w_l2.append(np.random.normal(0, 1/self.hidden_neurons)) #td: might need to adjust m\n",
    "        \n",
    "        return [w_l1, w_l2]\n",
    "    \n",
    "    def prepare_x(self, index, training_data):\n",
    "        x = [1]\n",
    "        for column_name in training_data.columns:\n",
    "            if column_name != \"label\":\n",
    "                x.append(training_data[column_name].to_numpy()[index])\n",
    "        return x\n",
    "\n",
    "    def sigmoid(self, Z):\n",
    "        if isinstance(Z, np.float64) or type(Z) == int:\n",
    "            return 1.0 / (1.0 + np.exp(-Z))\n",
    "        else:\n",
    "            return [1.0 / (1.0 + np.exp(-z)) for z in Z]\n",
    "    \n",
    "    def sigmoid_deriv(self, Z):\n",
    "        if isinstance(Z, np.float64) or type(Z) == int:\n",
    "            return self.sigmoid(Z)*(1-self.sigmoid(Z))\n",
    "        else:\n",
    "            return [self.sigmoid(z)*(1-self.sigmoid(z)) for z in Z]\n",
    "    \n",
    "    def error(self, predicted, target):\n",
    "        return np.power(predicted-target, 2)\n",
    "\n",
    "    def error_predicted_deriv(self, predicted, target):\n",
    "        return 2*(predicted-target)\n",
    "\n",
    "    def train_epoch(self, A0, index, learn_rate):\n",
    "        A = [A0]\n",
    "        z = [0] #note: add 0 to make the index align with A\n",
    "\n",
    "        # feedforward\n",
    "        # layer 1\n",
    "        weights_l1 = self.weights[0]\n",
    "        z_l1 = [1]\n",
    "        a_l1 = [1]\n",
    "        for neuron in range(self.hidden_neurons):\n",
    "            z_neuron_1 = np.dot(weights_l1[neuron], A[0])\n",
    "            a_neuron_1 = self.sigmoid(z_neuron_1)\n",
    "            z_l1.append(z_neuron_1)\n",
    "            a_l1.append(a_neuron_1)\n",
    "        z.append(z_l1)\n",
    "        A.append(a_l1)\n",
    "\n",
    "        # layer 2\n",
    "        z_l2 = np.dot(self.weights[1], A[1])\n",
    "        a_l2 = z_l2\n",
    "        z.append(z_l2)\n",
    "        A.append(a_l2)\n",
    "        # checkpoint1: feedforward done\n",
    "\n",
    "        # backpropagation\n",
    "        # layer 2\n",
    "        error_deriv_l2 = self.error_predicted_deriv(A[2], self.label[index])\n",
    "        act_deriv_l2 = 1\n",
    "        gradient_l2 = np.multiply(np.multiply(A[1], act_deriv_l2), error_deriv_l2)\n",
    "        self.weights[1] -= learn_rate * gradient_l2\n",
    "\n",
    "        # layer 1\n",
    "        for neuron in range(self.hidden_neurons):\n",
    "            act_deriv_neuron_l1 = self.sigmoid_deriv(z[1][neuron])\n",
    "            error_deriv_neuron_l1 = self.weights[1][neuron+1] #note: first item in weights is w0, so neuron+1\n",
    "            gradient_neuron_l1 = np.multiply(np.multiply(A0, act_deriv_neuron_l1), error_deriv_neuron_l1)\n",
    "            self.weights[0][neuron] -= learn_rate * gradient_neuron_l1\n",
    "        # checkpoint2: backpropagation done\n",
    "        \n",
    "        # error calculation\n",
    "        error = self.error(A[-1], self.label[index])\n",
    "        return error\n",
    "    \n",
    "    def train(self):\n",
    "        # stochasic gradient descent\n",
    "        errors = []\n",
    "        for t in range(self.epochs):\n",
    "            learn_rate = 1\n",
    "            if t != 0:\n",
    "                learn_rate = 1/t\n",
    "            length = len(self.label)\n",
    "            index = np.random.randint(0, length-1)\n",
    "            inpt = self.prepare_x(index, self.training_data)\n",
    "            error = self.train_epoch(A0=inpt, index=index, learn_rate=learn_rate)\n",
    "            errors.append(error)\n",
    "        return errors"
   ]
  },
  {
   "cell_type": "code",
   "execution_count": 15,
   "metadata": {},
   "outputs": [],
   "source": [
    "nn = NeuralNetwork(hidden_neurons=10, training_data=d_nl)\n",
    "errors = nn.train()"
   ]
  },
  {
   "cell_type": "code",
   "execution_count": 20,
   "metadata": {},
   "outputs": [
    {
     "data": {
      "text/plain": [
       "<matplotlib.collections.PathCollection at 0x7fecd0c58430>"
      ]
     },
     "execution_count": 20,
     "metadata": {},
     "output_type": "execute_result"
    },
    {
     "data": {
      "image/png": "[encoded data removed]",
      "text/plain": [
       "<Figure size 432x288 with 1 Axes>"
      ]
     },
     "metadata": {
      "needs_background": "light"
     },
     "output_type": "display_data"
    }
   ],
   "source": [
    "plt.scatter(np.arange(0, len(errors[2000:]), 1), errors[2000:])"
   ]
  },
  {
   "cell_type": "code",
   "execution_count": null,
   "metadata": {},
   "outputs": [],
   "source": []
  }
 ],
 "metadata": {
  "kernelspec": {
   "display_name": "base",
   "language": "python",
   "name": "python3"
  },
  "language_info": {
   "codemirror_mode": {
    "name": "ipython",
    "version": 3
   },
   "file_extension": ".py",
   "mimetype": "text/x-python",
   "name": "python",
   "nbconvert_exporter": "python",
   "pygments_lexer": "ipython3",
   "version": "3.9.1"
  },
  "orig_nbformat": 4
 },
 "nbformat": 4,
 "nbformat_minor": 2
}
